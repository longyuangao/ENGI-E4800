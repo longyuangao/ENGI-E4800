{
 "cells": [
  {
   "cell_type": "code",
   "execution_count": 2,
   "id": "4f4c2d62",
   "metadata": {},
   "outputs": [],
   "source": [
    "import fuzzy_pandas as fp\n",
    "import pandas as pd\n",
    "import os\n",
    "import xlrd\n",
    "import numpy as np\n",
    "from sklearn.impute import SimpleImputer"
   ]
  },
  {
   "cell_type": "code",
   "execution_count": 3,
   "id": "4165d1c7",
   "metadata": {},
   "outputs": [],
   "source": [
    "census = pd.read_csv(\"census_data_final - census_data_final.csv\")\n",
    "black_rep = pd.read_csv(\"Black_representation - Sheet 1.csv\")\n",
    "variable_coder = pd.read_excel(\"VARIABLE for coder X.xlsx\")\n"
   ]
  },
  {
   "cell_type": "code",
   "execution_count": 4,
   "id": "89e79a13",
   "metadata": {},
   "outputs": [
    {
     "data": {
      "text/html": [
       "<div>\n",
       "<style scoped>\n",
       "    .dataframe tbody tr th:only-of-type {\n",
       "        vertical-align: middle;\n",
       "    }\n",
       "\n",
       "    .dataframe tbody tr th {\n",
       "        vertical-align: top;\n",
       "    }\n",
       "\n",
       "    .dataframe thead th {\n",
       "        text-align: right;\n",
       "    }\n",
       "</style>\n",
       "<table border=\"1\" class=\"dataframe\">\n",
       "  <thead>\n",
       "    <tr style=\"text-align: right;\">\n",
       "      <th></th>\n",
       "      <th>STATE</th>\n",
       "      <th>GISJOIN</th>\n",
       "      <th>STATEICP</th>\n",
       "      <th>STATEFIPS</th>\n",
       "      <th>COUNTYFIPS</th>\n",
       "      <th>ALLCOUNTIES</th>\n",
       "      <th>VARIABLE NAME</th>\n",
       "    </tr>\n",
       "  </thead>\n",
       "  <tbody>\n",
       "    <tr>\n",
       "      <th>0</th>\n",
       "      <td>Alabama</td>\n",
       "      <td>G0100010</td>\n",
       "      <td>41.0</td>\n",
       "      <td>1</td>\n",
       "      <td>10</td>\n",
       "      <td>Autauga</td>\n",
       "      <td>NaN</td>\n",
       "    </tr>\n",
       "    <tr>\n",
       "      <th>1</th>\n",
       "      <td>Alabama</td>\n",
       "      <td>G0100030</td>\n",
       "      <td>41.0</td>\n",
       "      <td>1</td>\n",
       "      <td>30</td>\n",
       "      <td>Baldwin</td>\n",
       "      <td>NaN</td>\n",
       "    </tr>\n",
       "    <tr>\n",
       "      <th>2</th>\n",
       "      <td>Alabama</td>\n",
       "      <td>G0100050</td>\n",
       "      <td>41.0</td>\n",
       "      <td>1</td>\n",
       "      <td>50</td>\n",
       "      <td>Barbour</td>\n",
       "      <td>NaN</td>\n",
       "    </tr>\n",
       "    <tr>\n",
       "      <th>3</th>\n",
       "      <td>Alabama</td>\n",
       "      <td>G0100070</td>\n",
       "      <td>41.0</td>\n",
       "      <td>1</td>\n",
       "      <td>70</td>\n",
       "      <td>Bibb</td>\n",
       "      <td>NaN</td>\n",
       "    </tr>\n",
       "    <tr>\n",
       "      <th>4</th>\n",
       "      <td>Alabama</td>\n",
       "      <td>G0100090</td>\n",
       "      <td>41.0</td>\n",
       "      <td>1</td>\n",
       "      <td>90</td>\n",
       "      <td>Blount</td>\n",
       "      <td>NaN</td>\n",
       "    </tr>\n",
       "  </tbody>\n",
       "</table>\n",
       "</div>"
      ],
      "text/plain": [
       "     STATE   GISJOIN  STATEICP  STATEFIPS  COUNTYFIPS ALLCOUNTIES  \\\n",
       "0  Alabama  G0100010      41.0          1          10     Autauga   \n",
       "1  Alabama  G0100030      41.0          1          30     Baldwin   \n",
       "2  Alabama  G0100050      41.0          1          50     Barbour   \n",
       "3  Alabama  G0100070      41.0          1          70        Bibb   \n",
       "4  Alabama  G0100090      41.0          1          90      Blount   \n",
       "\n",
       "   VARIABLE NAME  \n",
       "0            NaN  \n",
       "1            NaN  \n",
       "2            NaN  \n",
       "3            NaN  \n",
       "4            NaN  "
      ]
     },
     "execution_count": 4,
     "metadata": {},
     "output_type": "execute_result"
    }
   ],
   "source": [
    "variable_coder.head(5)"
   ]
  },
  {
   "cell_type": "code",
   "execution_count": 5,
   "id": "c2aaee63",
   "metadata": {},
   "outputs": [
    {
     "data": {
      "text/html": [
       "<div>\n",
       "<style scoped>\n",
       "    .dataframe tbody tr th:only-of-type {\n",
       "        vertical-align: middle;\n",
       "    }\n",
       "\n",
       "    .dataframe tbody tr th {\n",
       "        vertical-align: top;\n",
       "    }\n",
       "\n",
       "    .dataframe thead th {\n",
       "        text-align: right;\n",
       "    }\n",
       "</style>\n",
       "<table border=\"1\" class=\"dataframe\">\n",
       "  <thead>\n",
       "    <tr style=\"text-align: right;\">\n",
       "      <th></th>\n",
       "      <th>State</th>\n",
       "      <th>total_reps</th>\n",
       "      <th>senate</th>\n",
       "      <th>representatives</th>\n",
       "      <th>*Number of justices*</th>\n",
       "      <th>attorney_general</th>\n",
       "      <th>governor</th>\n",
       "      <th>count</th>\n",
       "      <th>percent_black_rep</th>\n",
       "    </tr>\n",
       "  </thead>\n",
       "  <tbody>\n",
       "    <tr>\n",
       "      <th>45</th>\n",
       "      <td>Virginia</td>\n",
       "      <td>22.0</td>\n",
       "      <td>2.0</td>\n",
       "      <td>11.0</td>\n",
       "      <td>7.0</td>\n",
       "      <td>1.0</td>\n",
       "      <td>1.0</td>\n",
       "      <td>1.0</td>\n",
       "      <td>0.045455</td>\n",
       "    </tr>\n",
       "    <tr>\n",
       "      <th>46</th>\n",
       "      <td>Washington</td>\n",
       "      <td>23.0</td>\n",
       "      <td>2.0</td>\n",
       "      <td>10.0</td>\n",
       "      <td>9.0</td>\n",
       "      <td>1.0</td>\n",
       "      <td>1.0</td>\n",
       "      <td>0.0</td>\n",
       "      <td>0.000000</td>\n",
       "    </tr>\n",
       "    <tr>\n",
       "      <th>47</th>\n",
       "      <td>West Virginia</td>\n",
       "      <td>11.0</td>\n",
       "      <td>2.0</td>\n",
       "      <td>2.0</td>\n",
       "      <td>5.0</td>\n",
       "      <td>1.0</td>\n",
       "      <td>1.0</td>\n",
       "      <td>0.0</td>\n",
       "      <td>0.000000</td>\n",
       "    </tr>\n",
       "    <tr>\n",
       "      <th>48</th>\n",
       "      <td>Wisconsin</td>\n",
       "      <td>19.0</td>\n",
       "      <td>2.0</td>\n",
       "      <td>8.0</td>\n",
       "      <td>7.0</td>\n",
       "      <td>1.0</td>\n",
       "      <td>1.0</td>\n",
       "      <td>0.0</td>\n",
       "      <td>0.000000</td>\n",
       "    </tr>\n",
       "    <tr>\n",
       "      <th>49</th>\n",
       "      <td>Wyoming</td>\n",
       "      <td>4.0</td>\n",
       "      <td>2.0</td>\n",
       "      <td>1.0</td>\n",
       "      <td>0.0</td>\n",
       "      <td>0.0</td>\n",
       "      <td>1.0</td>\n",
       "      <td>0.0</td>\n",
       "      <td>0.000000</td>\n",
       "    </tr>\n",
       "  </tbody>\n",
       "</table>\n",
       "</div>"
      ],
      "text/plain": [
       "            State  total_reps  senate  representatives  *Number of justices*  \\\n",
       "45       Virginia        22.0     2.0             11.0                   7.0   \n",
       "46     Washington        23.0     2.0             10.0                   9.0   \n",
       "47  West Virginia        11.0     2.0              2.0                   5.0   \n",
       "48      Wisconsin        19.0     2.0              8.0                   7.0   \n",
       "49        Wyoming         4.0     2.0              1.0                   0.0   \n",
       "\n",
       "    attorney_general  governor  count  percent_black_rep  \n",
       "45               1.0       1.0    1.0           0.045455  \n",
       "46               1.0       1.0    0.0           0.000000  \n",
       "47               1.0       1.0    0.0           0.000000  \n",
       "48               1.0       1.0    0.0           0.000000  \n",
       "49               0.0       1.0    0.0           0.000000  "
      ]
     },
     "execution_count": 5,
     "metadata": {},
     "output_type": "execute_result"
    }
   ],
   "source": [
    "black_rep.loc[len(black_rep.index)] = ['District Of Columbia', np.nan, np.nan,np.nan,np.nan,np.nan,np.nan,np.nan,1/7]\n",
    "black_rep = black_rep.sort_values(by = \"State\")\n",
    "black_rep.tail(5)"
   ]
  },
  {
   "cell_type": "code",
   "execution_count": 7,
   "id": "950c745e",
   "metadata": {},
   "outputs": [
    {
     "data": {
      "text/html": [
       "<div>\n",
       "<style scoped>\n",
       "    .dataframe tbody tr th:only-of-type {\n",
       "        vertical-align: middle;\n",
       "    }\n",
       "\n",
       "    .dataframe tbody tr th {\n",
       "        vertical-align: top;\n",
       "    }\n",
       "\n",
       "    .dataframe thead th {\n",
       "        text-align: right;\n",
       "    }\n",
       "</style>\n",
       "<table border=\"1\" class=\"dataframe\">\n",
       "  <thead>\n",
       "    <tr style=\"text-align: right;\">\n",
       "      <th></th>\n",
       "      <th>Unnamed: 0</th>\n",
       "      <th>STNAME</th>\n",
       "      <th>CTYNAME</th>\n",
       "      <th>black_population</th>\n",
       "      <th>total_population</th>\n",
       "      <th>cty_percentage</th>\n",
       "    </tr>\n",
       "  </thead>\n",
       "  <tbody>\n",
       "    <tr>\n",
       "      <th>320</th>\n",
       "      <td>321</td>\n",
       "      <td>District of Columbia</td>\n",
       "      <td>District of Columbia</td>\n",
       "      <td>7759064</td>\n",
       "      <td>16151082</td>\n",
       "      <td>0.480405</td>\n",
       "    </tr>\n",
       "  </tbody>\n",
       "</table>\n",
       "</div>"
      ],
      "text/plain": [
       "     Unnamed: 0                STNAME               CTYNAME  black_population  \\\n",
       "320         321  District of Columbia  District of Columbia           7759064   \n",
       "\n",
       "     total_population  cty_percentage  \n",
       "320          16151082        0.480405  "
      ]
     },
     "execution_count": 7,
     "metadata": {},
     "output_type": "execute_result"
    }
   ],
   "source": [
    "census.head(5)\n",
    "census.loc[census['STNAME'] == 'District of Columbia']"
   ]
  },
  {
   "cell_type": "markdown",
   "id": "494ea3b2",
   "metadata": {},
   "source": [
    "This is actually much easier than I imagined at first; if the variable is just 0 or 1, I can create a column with 0's or 1's for each state, then join that with the variable coder spreadsheet based on state name "
   ]
  },
  {
   "cell_type": "code",
   "execution_count": 6,
   "id": "f36c740d",
   "metadata": {},
   "outputs": [
    {
     "data": {
      "text/html": [
       "<div>\n",
       "<style scoped>\n",
       "    .dataframe tbody tr th:only-of-type {\n",
       "        vertical-align: middle;\n",
       "    }\n",
       "\n",
       "    .dataframe tbody tr th {\n",
       "        vertical-align: top;\n",
       "    }\n",
       "\n",
       "    .dataframe thead th {\n",
       "        text-align: right;\n",
       "    }\n",
       "</style>\n",
       "<table border=\"1\" class=\"dataframe\">\n",
       "  <thead>\n",
       "    <tr style=\"text-align: right;\">\n",
       "      <th></th>\n",
       "      <th>State</th>\n",
       "      <th>percent_black_rep</th>\n",
       "    </tr>\n",
       "  </thead>\n",
       "  <tbody>\n",
       "    <tr>\n",
       "      <th>0</th>\n",
       "      <td>Alabama</td>\n",
       "      <td>0.050000</td>\n",
       "    </tr>\n",
       "    <tr>\n",
       "      <th>1</th>\n",
       "      <td>Alaska</td>\n",
       "      <td>0.000000</td>\n",
       "    </tr>\n",
       "    <tr>\n",
       "      <th>2</th>\n",
       "      <td>Arizona</td>\n",
       "      <td>0.000000</td>\n",
       "    </tr>\n",
       "    <tr>\n",
       "      <th>3</th>\n",
       "      <td>Arkansas</td>\n",
       "      <td>0.000000</td>\n",
       "    </tr>\n",
       "    <tr>\n",
       "      <th>4</th>\n",
       "      <td>California</td>\n",
       "      <td>0.053571</td>\n",
       "    </tr>\n",
       "  </tbody>\n",
       "</table>\n",
       "</div>"
      ],
      "text/plain": [
       "        State  percent_black_rep\n",
       "0     Alabama           0.050000\n",
       "1      Alaska           0.000000\n",
       "2     Arizona           0.000000\n",
       "3    Arkansas           0.000000\n",
       "4  California           0.053571"
      ]
     },
     "execution_count": 6,
     "metadata": {},
     "output_type": "execute_result"
    }
   ],
   "source": [
    "percentage_rep = black_rep[['State', 'percent_black_rep']]\n",
    "percentage_rep.head(5)"
   ]
  },
  {
   "cell_type": "code",
   "execution_count": 7,
   "id": "0c83812f",
   "metadata": {},
   "outputs": [
    {
     "data": {
      "text/html": [
       "<div>\n",
       "<style scoped>\n",
       "    .dataframe tbody tr th:only-of-type {\n",
       "        vertical-align: middle;\n",
       "    }\n",
       "\n",
       "    .dataframe tbody tr th {\n",
       "        vertical-align: top;\n",
       "    }\n",
       "\n",
       "    .dataframe thead th {\n",
       "        text-align: right;\n",
       "    }\n",
       "</style>\n",
       "<table border=\"1\" class=\"dataframe\">\n",
       "  <thead>\n",
       "    <tr style=\"text-align: right;\">\n",
       "      <th></th>\n",
       "      <th>cty_percentage</th>\n",
       "    </tr>\n",
       "    <tr>\n",
       "      <th>STNAME</th>\n",
       "      <th></th>\n",
       "    </tr>\n",
       "  </thead>\n",
       "  <tbody>\n",
       "    <tr>\n",
       "      <th>Alabama</th>\n",
       "      <td>0.208823</td>\n",
       "    </tr>\n",
       "    <tr>\n",
       "      <th>Alaska</th>\n",
       "      <td>0.017298</td>\n",
       "    </tr>\n",
       "    <tr>\n",
       "      <th>Arizona</th>\n",
       "      <td>0.022668</td>\n",
       "    </tr>\n",
       "    <tr>\n",
       "      <th>Arkansas</th>\n",
       "      <td>0.143197</td>\n",
       "    </tr>\n",
       "    <tr>\n",
       "      <th>California</th>\n",
       "      <td>0.044039</td>\n",
       "    </tr>\n",
       "  </tbody>\n",
       "</table>\n",
       "</div>"
      ],
      "text/plain": [
       "            cty_percentage\n",
       "STNAME                    \n",
       "Alabama           0.208823\n",
       "Alaska            0.017298\n",
       "Arizona           0.022668\n",
       "Arkansas          0.143197\n",
       "California        0.044039"
      ]
     },
     "execution_count": 7,
     "metadata": {},
     "output_type": "execute_result"
    }
   ],
   "source": [
    "census_agg = pd.DataFrame(census.groupby('STNAME')['cty_percentage'].mean())\n",
    "census_agg.head(5)"
   ]
  },
  {
   "cell_type": "code",
   "execution_count": 8,
   "id": "7d38db9c",
   "metadata": {},
   "outputs": [
    {
     "name": "stdout",
     "output_type": "stream",
     "text": [
      "There are 38 total states where the percentage of the Black population is greater than the percentage of Black representation at the state level. In other words, this is the total number of States where Black representation is insufficient by our metrics\n"
     ]
    }
   ],
   "source": [
    "final_df = percentage_rep.join(census_agg, how = \"left\", on = \"State\")\n",
    "final_df['GR.LRA3'] = 99 # just filling in a random number to make sure it turns out how I want it to\n",
    "\n",
    "for row in range(len(final_df)):\n",
    "    cty = final_df.loc[row,].cty_percentage\n",
    "    perc = final_df.loc[row,].percent_black_rep\n",
    "    if perc > cty:\n",
    "        final_df.loc[row,'GR.LRA3'] = 0\n",
    "    else: \n",
    "        final_df.loc[row,'GR.LRA3'] = 1\n",
    "\n",
    "\n",
    "print(f\"There are {final_df['GR.LRA3'].sum()} total states where the percentage of the Black population is greater than the percentage of Black representation at the state level. In other words, this is the total number of States where Black representation is insufficient by our metrics\")        "
   ]
  },
  {
   "cell_type": "code",
   "execution_count": 9,
   "id": "f5a8cdd0",
   "metadata": {},
   "outputs": [
    {
     "name": "stdout",
     "output_type": "stream",
     "text": [
      "The current state is Alabama and the GR value is 1\n",
      "The current state is Alaska and the GR value is 1\n",
      "The current state is Arizona and the GR value is 1\n",
      "The current state is Arkansas and the GR value is 1\n",
      "The current state is California and the GR value is 0\n",
      "The current state is Colorado and the GR value is 0\n",
      "The current state is Connecticut and the GR value is 0\n",
      "The current state is Delaware and the GR value is 0\n",
      "The current state is District Of Columbia and the GR value is 1\n",
      "The current state is Florida and the GR value is 1\n",
      "The current state is Georgia and the GR value is 1\n",
      "The current state is Hawaii and the GR value is 1\n",
      "The current state is Idaho and the GR value is 1\n",
      "The current state is Illinois and the GR value is 0\n",
      "The current state is Indiana and the GR value is 1\n",
      "The current state is Iowa and the GR value is 1\n",
      "The current state is Kansas and the GR value is 1\n",
      "The current state is Kentucky and the GR value is 1\n",
      "The current state is Louisiana and the GR value is 1\n",
      "The current state is Maine and the GR value is 1\n",
      "The current state is Maryland and the GR value is 1\n",
      "The current state is Massachusetts and the GR value is 0\n",
      "The current state is Michigan and the GR value is 0\n",
      "The current state is Minnesota and the GR value is 0\n",
      "The current state is Mississippi and the GR value is 1\n",
      "The current state is Missouri and the GR value is 1\n",
      "The current state is Montana and the GR value is 1\n",
      "The current state is Nebraska and the GR value is 1\n",
      "The current state is Nevada and the GR value is 0\n",
      "The current state is New Hampshire and the GR value is 1\n",
      "The current state is New Jersey and the GR value is 0\n",
      "The current state is New Mexico and the GR value is 1\n",
      "The current state is New York and the GR value is 1\n",
      "The current state is North Carolina and the GR value is 1\n",
      "The current state is North Dakota and the GR value is 1\n",
      "The current state is Ohio and the GR value is 1\n",
      "The current state is Oklahoma and the GR value is 0\n",
      "The current state is Oregon and the GR value is 0\n",
      "The current state is Pennsylvania and the GR value is 1\n",
      "The current state is Rhode Island and the GR value is 1\n",
      "The current state is South Carolina and the GR value is 1\n",
      "The current state is South Dakota and the GR value is 1\n",
      "The current state is Tennessee and the GR value is 1\n",
      "The current state is Texas and the GR value is 1\n",
      "The current state is Utah and the GR value is 0\n",
      "The current state is Vermont and the GR value is 1\n",
      "The current state is Virginia and the GR value is 1\n",
      "The current state is Washington and the GR value is 1\n",
      "The current state is West Virginia and the GR value is 1\n",
      "The current state is Wisconsin and the GR value is 1\n",
      "The current state is Wyoming and the GR value is 1\n"
     ]
    }
   ],
   "source": [
    "variable_coder = variable_coder.rename(columns = {'VARIABLE NAME':'GR.LRA3'})\n",
    "for state in final_df.State:\n",
    "    rep = final_df.loc[final_df['State'] == state, 'GR.LRA3'].values[0]\n",
    "    print(f\"The current state is {state} and the GR value is {rep}\")\n",
    "    variable_coder.loc[variable_coder['STATE'] == state, 'GR.LRA3'] = rep\n",
    "    "
   ]
  },
  {
   "cell_type": "markdown",
   "id": "a8d1f6cc",
   "metadata": {},
   "source": [
    "<p> The extra states/territories are Alaska Territory, Puerto Rico, and Washington DC; I'm not too sure what to do with them so I'll just remove them from now and then tell Dr. AJ later</p>"
   ]
  },
  {
   "cell_type": "code",
   "execution_count": 11,
   "id": "468cd0d6",
   "metadata": {},
   "outputs": [],
   "source": [
    "assert variable_coder['GR.LRA3'].isna().sum() == len(variable_coder.loc[variable_coder['STATE'] == \"Alaska Territory\"])+len(variable_coder.loc[variable_coder['STATE'] == \"Puerto Rico\"]) #+len(variable_coder.loc[variable_coder['STATE'] == \"District Of Columbia\"])"
   ]
  },
  {
   "cell_type": "markdown",
   "id": "6411f6c4",
   "metadata": {},
   "source": [
    "^^ Confirming that all of our na's are from PR or Alaska (already took care of DC above)"
   ]
  },
  {
   "cell_type": "markdown",
   "id": "8d24a36c",
   "metadata": {},
   "source": [
    "Next steps: \n",
    "\n",
    "* Impute missing data for rows where our state is PR, Alaska and DC \n",
    "* Find a way to join the percentage of black population by county to the variable coder spreadsheet \n",
    "  * Idea: Take the state and county column from the variable coder spreadsheet and do a left join (with it on the inside) with the cty_percentage dataframe. Any rows with missing info were not in the cty_percentage dataframe so I can just impute those with the average from the state itself. \n",
    "  * I'm not too sure what to do with the entire states/territories that weren't in our percentage dataframe; \n",
    "    * Maybe impute with the national avg? \n",
    "    "
   ]
  },
  {
   "cell_type": "markdown",
   "id": "9743e39a",
   "metadata": {},
   "source": [
    "For the Alaska Territories; I imputed the GR.LRA3 variable using the value for \"Alaska\". To keep things consistent, \n",
    "I think I also need to impute the percentage of the Black population using the mean for all counties in Alaska"
   ]
  },
  {
   "cell_type": "code",
   "execution_count": 12,
   "id": "05bffbed",
   "metadata": {},
   "outputs": [],
   "source": [
    "variable_coder.loc[variable_coder['STATE'] == \"Alaska Territory\", 'GR.LRA3'] = variable_coder.loc[variable_coder['STATE'] == \"Alaska\", 'GR.LRA3'].values[0]"
   ]
  },
  {
   "cell_type": "markdown",
   "id": "1a41cf99",
   "metadata": {},
   "source": [
    "<p> I actually have no idea what to do for Puerto Rico so I will ask in the meeting tomorrow; PR does not have the same state elected positions that all of the other states and territories have so it probably doesn't make sense to just assign it one way or another. I could just impute it with the mode of the column, but I want to double check. \n",
    "</p>\n",
    "\n",
    "\n",
    "<p>\n",
    "    I also don't really know what to do about the Washington DC stuff; I could theoretically look through each of the eligible elected positions and then see the percentage of Black folks for DC. It probably won't be too bad so I'll just do this. \n",
    "</p>\n",
    "\n",
    "* Congress (house and senate);  5 congress and 0 senators \n",
    "  * 0 Black\n",
    "* State governor; Questionable because they only have a mayor, will not give it to them based on this *https://statehood.dc.gov/page/dc-governance#:~:text=Like%20a%20governor%2C%20the%20Mayor,before%20a%20law%20takes%20effect.* Lack of autonomy section\n",
    "* State supreme court justices (only those that are elected); appointed by the president \n",
    "* State attorney general; they have an attorney general \n",
    "  * 1 Black, 2 possible during the time span \n",
    "  \n",
    "This means DC is 100(1/7)% Black representation. I will manually add this to the dataframe (done above)"
   ]
  },
  {
   "cell_type": "code",
   "execution_count": 13,
   "id": "bc0b6e3e",
   "metadata": {},
   "outputs": [],
   "source": [
    "variable_coder.loc[variable_coder['STATE'] == \"Puerto Rico\", 'GR.LRA3'] = variable_coder.loc[variable_coder['STATE'] == \"Alaska\", 'GR.LRA3'].values[0]"
   ]
  },
  {
   "cell_type": "code",
   "execution_count": 14,
   "id": "bc4a2d41",
   "metadata": {},
   "outputs": [],
   "source": [
    "variable_coder.loc[variable_coder['STATE'] == \"Puerto Rico\", 'GR.LRA3'] = variable_coder['GR.LRA3'].mode().values[0]\n",
    "\n"
   ]
  },
  {
   "cell_type": "code",
   "execution_count": 15,
   "id": "625e181e",
   "metadata": {},
   "outputs": [
    {
     "data": {
      "text/html": [
       "<div>\n",
       "<style scoped>\n",
       "    .dataframe tbody tr th:only-of-type {\n",
       "        vertical-align: middle;\n",
       "    }\n",
       "\n",
       "    .dataframe tbody tr th {\n",
       "        vertical-align: top;\n",
       "    }\n",
       "\n",
       "    .dataframe thead th {\n",
       "        text-align: right;\n",
       "    }\n",
       "</style>\n",
       "<table border=\"1\" class=\"dataframe\">\n",
       "  <thead>\n",
       "    <tr style=\"text-align: right;\">\n",
       "      <th></th>\n",
       "      <th>STATE</th>\n",
       "      <th>GISJOIN</th>\n",
       "      <th>STATEICP</th>\n",
       "      <th>STATEFIPS</th>\n",
       "      <th>COUNTYFIPS</th>\n",
       "      <th>ALLCOUNTIES</th>\n",
       "      <th>GR.LRA3</th>\n",
       "    </tr>\n",
       "  </thead>\n",
       "  <tbody>\n",
       "  </tbody>\n",
       "</table>\n",
       "</div>"
      ],
      "text/plain": [
       "Empty DataFrame\n",
       "Columns: [STATE, GISJOIN, STATEICP, STATEFIPS, COUNTYFIPS, ALLCOUNTIES, GR.LRA3]\n",
       "Index: []"
      ]
     },
     "execution_count": 15,
     "metadata": {},
     "output_type": "execute_result"
    }
   ],
   "source": [
    "variable_coder.loc[variable_coder['GR.LRA3'].isna() == True]"
   ]
  },
  {
   "cell_type": "code",
   "execution_count": 17,
   "id": "55270aed",
   "metadata": {},
   "outputs": [],
   "source": [
    "variable_coder.to_csv(\"final_variable_coder.csv\")"
   ]
  },
  {
   "cell_type": "code",
   "execution_count": null,
   "id": "2ef51df0",
   "metadata": {},
   "outputs": [],
   "source": []
  }
 ],
 "metadata": {
  "kernelspec": {
   "display_name": "Python 3 (ipykernel)",
   "language": "python",
   "name": "python3"
  },
  "language_info": {
   "codemirror_mode": {
    "name": "ipython",
    "version": 3
   },
   "file_extension": ".py",
   "mimetype": "text/x-python",
   "name": "python",
   "nbconvert_exporter": "python",
   "pygments_lexer": "ipython3",
   "version": "3.9.12"
  }
 },
 "nbformat": 4,
 "nbformat_minor": 5
}
