{
 "cells": [
  {
   "cell_type": "markdown",
   "id": "9b5e3ba6",
   "metadata": {},
   "source": [
    "# Data Cleaning & Merging"
   ]
  },
  {
   "cell_type": "code",
   "execution_count": 1,
   "id": "d4022e19",
   "metadata": {},
   "outputs": [],
   "source": [
    "import pandas as pd\n",
    "import numpy as np\n",
    "import plotly.express as px\n",
    "import matplotlib.pyplot as plt\n",
    "import plotly.graph_objects as go\n",
    "import matplotlib\n",
    "import itertools as it"
   ]
  },
  {
   "cell_type": "code",
   "execution_count": 2,
   "id": "3ac83928",
   "metadata": {},
   "outputs": [],
   "source": [
    "census_data = pd.read_csv(\"census_data_merged.csv\")\n",
    "var_data = pd.read_excel(\"All Coded Variables.xlsx\")\n"
   ]
  },
  {
   "cell_type": "code",
   "execution_count": 3,
   "id": "41b2f6eb",
   "metadata": {
    "scrolled": true
   },
   "outputs": [
    {
     "data": {
      "text/html": [
       "<div>\n",
       "<style scoped>\n",
       "    .dataframe tbody tr th:only-of-type {\n",
       "        vertical-align: middle;\n",
       "    }\n",
       "\n",
       "    .dataframe tbody tr th {\n",
       "        vertical-align: top;\n",
       "    }\n",
       "\n",
       "    .dataframe thead th {\n",
       "        text-align: right;\n",
       "    }\n",
       "</style>\n",
       "<table border=\"1\" class=\"dataframe\">\n",
       "  <thead>\n",
       "    <tr style=\"text-align: right;\">\n",
       "      <th></th>\n",
       "      <th>Unnamed: 0</th>\n",
       "      <th>STATE</th>\n",
       "      <th>GISJOIN</th>\n",
       "      <th>STATEICP</th>\n",
       "      <th>STATEFIPS</th>\n",
       "      <th>COUNTYFIPS</th>\n",
       "      <th>ALLCOUNTIES</th>\n",
       "      <th>VARIABLE NAME</th>\n",
       "      <th>black_population</th>\n",
       "      <th>total_population</th>\n",
       "      <th>cty_percentage</th>\n",
       "    </tr>\n",
       "  </thead>\n",
       "  <tbody>\n",
       "    <tr>\n",
       "      <th>0</th>\n",
       "      <td>1</td>\n",
       "      <td>Alabama</td>\n",
       "      <td>G0100010</td>\n",
       "      <td>41.0</td>\n",
       "      <td>1</td>\n",
       "      <td>10</td>\n",
       "      <td>Autauga</td>\n",
       "      <td>NaN</td>\n",
       "      <td>253472.0</td>\n",
       "      <td>1327718.0</td>\n",
       "      <td>0.190908</td>\n",
       "    </tr>\n",
       "    <tr>\n",
       "      <th>1</th>\n",
       "      <td>2</td>\n",
       "      <td>Alabama</td>\n",
       "      <td>G0100030</td>\n",
       "      <td>41.0</td>\n",
       "      <td>1</td>\n",
       "      <td>30</td>\n",
       "      <td>Baldwin</td>\n",
       "      <td>NaN</td>\n",
       "      <td>910598.0</td>\n",
       "      <td>6044606.0</td>\n",
       "      <td>0.150646</td>\n",
       "    </tr>\n",
       "    <tr>\n",
       "      <th>2</th>\n",
       "      <td>3</td>\n",
       "      <td>Alabama</td>\n",
       "      <td>G0100050</td>\n",
       "      <td>41.0</td>\n",
       "      <td>1</td>\n",
       "      <td>50</td>\n",
       "      <td>Barbour</td>\n",
       "      <td>NaN</td>\n",
       "      <td>302774.0</td>\n",
       "      <td>1023340.0</td>\n",
       "      <td>0.295868</td>\n",
       "    </tr>\n",
       "    <tr>\n",
       "      <th>3</th>\n",
       "      <td>4</td>\n",
       "      <td>Alabama</td>\n",
       "      <td>G0100070</td>\n",
       "      <td>41.0</td>\n",
       "      <td>1</td>\n",
       "      <td>70</td>\n",
       "      <td>Bibb</td>\n",
       "      <td>NaN</td>\n",
       "      <td>2139712.0</td>\n",
       "      <td>4241136.0</td>\n",
       "      <td>0.504514</td>\n",
       "    </tr>\n",
       "    <tr>\n",
       "      <th>4</th>\n",
       "      <td>5</td>\n",
       "      <td>Alabama</td>\n",
       "      <td>G0100090</td>\n",
       "      <td>41.0</td>\n",
       "      <td>1</td>\n",
       "      <td>90</td>\n",
       "      <td>Blount</td>\n",
       "      <td>NaN</td>\n",
       "      <td>113314.0</td>\n",
       "      <td>4467024.0</td>\n",
       "      <td>0.025367</td>\n",
       "    </tr>\n",
       "  </tbody>\n",
       "</table>\n",
       "</div>"
      ],
      "text/plain": [
       "   Unnamed: 0    STATE   GISJOIN  STATEICP  STATEFIPS  COUNTYFIPS ALLCOUNTIES  \\\n",
       "0           1  Alabama  G0100010      41.0          1          10     Autauga   \n",
       "1           2  Alabama  G0100030      41.0          1          30     Baldwin   \n",
       "2           3  Alabama  G0100050      41.0          1          50     Barbour   \n",
       "3           4  Alabama  G0100070      41.0          1          70        Bibb   \n",
       "4           5  Alabama  G0100090      41.0          1          90      Blount   \n",
       "\n",
       "   VARIABLE NAME  black_population  total_population  cty_percentage  \n",
       "0            NaN          253472.0         1327718.0        0.190908  \n",
       "1            NaN          910598.0         6044606.0        0.150646  \n",
       "2            NaN          302774.0         1023340.0        0.295868  \n",
       "3            NaN         2139712.0         4241136.0        0.504514  \n",
       "4            NaN          113314.0         4467024.0        0.025367  "
      ]
     },
     "execution_count": 3,
     "metadata": {},
     "output_type": "execute_result"
    }
   ],
   "source": [
    "census_data.head(5)"
   ]
  },
  {
   "cell_type": "code",
   "execution_count": 4,
   "id": "3df2bd15",
   "metadata": {},
   "outputs": [
    {
     "data": {
      "text/plain": [
       "Unnamed: 0             0\n",
       "STATE                  0\n",
       "GISJOIN                0\n",
       "STATEICP              92\n",
       "STATEFIPS              0\n",
       "COUNTYFIPS             0\n",
       "ALLCOUNTIES            0\n",
       "VARIABLE NAME       3258\n",
       "black_population     208\n",
       "total_population     208\n",
       "cty_percentage       208\n",
       "dtype: int64"
      ]
     },
     "execution_count": 4,
     "metadata": {},
     "output_type": "execute_result"
    }
   ],
   "source": [
    "census_data.isna().sum()"
   ]
  },
  {
   "cell_type": "markdown",
   "id": "26ca5537",
   "metadata": {},
   "source": [
    "<p> We have no data for Puerto Rico in our original dataset, so I will use the estimate of the Black alone population (0.10) found here: https://www.census.gov/quickfacts/fact/table/PR \n",
    "    </p>"
   ]
  },
  {
   "cell_type": "code",
   "execution_count": 5,
   "id": "d633afb7",
   "metadata": {},
   "outputs": [],
   "source": [
    "census_data.loc[census_data['STATE']=='Puerto Rico','cty_percentage'] = 0.10\n"
   ]
  },
  {
   "cell_type": "code",
   "execution_count": 6,
   "id": "e3a3c0e8",
   "metadata": {},
   "outputs": [
    {
     "name": "stderr",
     "output_type": "stream",
     "text": [
      "/var/folders/l9/1jc9yfg14f5gdn2jw_yyb7100000gn/T/ipykernel_33163/2299198326.py:6: RuntimeWarning: invalid value encountered in double_scalars\n",
      "  state_mean = black_pop/tot_pop\n"
     ]
    }
   ],
   "source": [
    "missing_pcts = census_data.loc[census_data['cty_percentage'].isna() == True]['STATE'].unique()\n",
    "\n",
    "for state in missing_pcts: \n",
    "    black_pop = census_data.loc[census_data['STATE'] == state]['black_population'].sum()\n",
    "    tot_pop = census_data.loc[census_data['STATE'] == state]['total_population'].sum()\n",
    "    state_mean = black_pop/tot_pop\n",
    "    missing_data = census_data.loc[census_data['STATE'] == state,'cty_percentage'].isna()\n",
    "    row_ind = missing_data.loc[missing_data == True].index\n",
    "    \n",
    "    for i in row_ind:\n",
    "        census_data.iloc[i,len(census_data.columns)-1] = state_mean\n",
    "    \n"
   ]
  },
  {
   "cell_type": "markdown",
   "id": "09888d81",
   "metadata": {},
   "source": [
    "<p> Manually imputing the value for DC based on the value in the \"Data_Merging\" file; not sure why it's missing here. Also imputing the \"Alaska Territory\" values with the mean value for Alaska. "
   ]
  },
  {
   "cell_type": "code",
   "execution_count": 7,
   "id": "0d33f97d",
   "metadata": {},
   "outputs": [],
   "source": [
    "census_data.loc[census_data['STATE'] == 'District Of Columbia', 'cty_percentage'] = 0.480405\n",
    "census_data.loc[census_data['STATE'] == 'Alaska Territory', 'cty_percentage'] = census_data.loc[census_data['STATE'] == 'Alaska']['cty_percentage'].mean()"
   ]
  },
  {
   "cell_type": "code",
   "execution_count": 8,
   "id": "74345039",
   "metadata": {
    "scrolled": true
   },
   "outputs": [
    {
     "data": {
      "text/plain": [
       "Unnamed: 0             0\n",
       "STATE                  0\n",
       "GISJOIN                0\n",
       "STATEICP              92\n",
       "STATEFIPS              0\n",
       "COUNTYFIPS             0\n",
       "ALLCOUNTIES            0\n",
       "VARIABLE NAME       3258\n",
       "black_population     208\n",
       "total_population     208\n",
       "cty_percentage         0\n",
       "dtype: int64"
      ]
     },
     "execution_count": 8,
     "metadata": {},
     "output_type": "execute_result"
    }
   ],
   "source": [
    "census_data.isna().sum()"
   ]
  },
  {
   "cell_type": "code",
   "execution_count": 9,
   "id": "8c9bb09b",
   "metadata": {
    "scrolled": true
   },
   "outputs": [
    {
     "data": {
      "text/html": [
       "<div>\n",
       "<style scoped>\n",
       "    .dataframe tbody tr th:only-of-type {\n",
       "        vertical-align: middle;\n",
       "    }\n",
       "\n",
       "    .dataframe tbody tr th {\n",
       "        vertical-align: top;\n",
       "    }\n",
       "\n",
       "    .dataframe thead th {\n",
       "        text-align: right;\n",
       "    }\n",
       "</style>\n",
       "<table border=\"1\" class=\"dataframe\">\n",
       "  <thead>\n",
       "    <tr style=\"text-align: right;\">\n",
       "      <th></th>\n",
       "      <th>Unnamed: 0</th>\n",
       "      <th>STATE</th>\n",
       "      <th>GISJOIN</th>\n",
       "      <th>STATEICP</th>\n",
       "      <th>STATEFIPS</th>\n",
       "      <th>COUNTYFIPS</th>\n",
       "      <th>ALLCOUNTIES</th>\n",
       "      <th>GR.SV2</th>\n",
       "      <th>GR.LRA2</th>\n",
       "      <th>GR.LRA3</th>\n",
       "      <th>MM.LRA1</th>\n",
       "      <th>EP.SV1</th>\n",
       "      <th>EP.LRA1</th>\n",
       "      <th>EP.SV2</th>\n",
       "      <th>EP.LRA2</th>\n",
       "      <th>EP.SV3</th>\n",
       "    </tr>\n",
       "  </thead>\n",
       "  <tbody>\n",
       "    <tr>\n",
       "      <th>0</th>\n",
       "      <td>1</td>\n",
       "      <td>Alabama</td>\n",
       "      <td>G0100010</td>\n",
       "      <td>41.0</td>\n",
       "      <td>1</td>\n",
       "      <td>10</td>\n",
       "      <td>Autauga</td>\n",
       "      <td>1</td>\n",
       "      <td>1</td>\n",
       "      <td>1</td>\n",
       "      <td>1</td>\n",
       "      <td>0</td>\n",
       "      <td>0</td>\n",
       "      <td>0</td>\n",
       "      <td>0</td>\n",
       "      <td>1</td>\n",
       "    </tr>\n",
       "    <tr>\n",
       "      <th>1</th>\n",
       "      <td>2</td>\n",
       "      <td>Alabama</td>\n",
       "      <td>G0100030</td>\n",
       "      <td>41.0</td>\n",
       "      <td>1</td>\n",
       "      <td>30</td>\n",
       "      <td>Baldwin</td>\n",
       "      <td>1</td>\n",
       "      <td>1</td>\n",
       "      <td>1</td>\n",
       "      <td>1</td>\n",
       "      <td>0</td>\n",
       "      <td>0</td>\n",
       "      <td>0</td>\n",
       "      <td>1</td>\n",
       "      <td>0</td>\n",
       "    </tr>\n",
       "    <tr>\n",
       "      <th>2</th>\n",
       "      <td>3</td>\n",
       "      <td>Alabama</td>\n",
       "      <td>G0100050</td>\n",
       "      <td>41.0</td>\n",
       "      <td>1</td>\n",
       "      <td>50</td>\n",
       "      <td>Barbour</td>\n",
       "      <td>1</td>\n",
       "      <td>1</td>\n",
       "      <td>1</td>\n",
       "      <td>1</td>\n",
       "      <td>0</td>\n",
       "      <td>0</td>\n",
       "      <td>0</td>\n",
       "      <td>0</td>\n",
       "      <td>0</td>\n",
       "    </tr>\n",
       "    <tr>\n",
       "      <th>3</th>\n",
       "      <td>4</td>\n",
       "      <td>Alabama</td>\n",
       "      <td>G0100070</td>\n",
       "      <td>41.0</td>\n",
       "      <td>1</td>\n",
       "      <td>70</td>\n",
       "      <td>Bibb</td>\n",
       "      <td>1</td>\n",
       "      <td>1</td>\n",
       "      <td>1</td>\n",
       "      <td>1</td>\n",
       "      <td>0</td>\n",
       "      <td>0</td>\n",
       "      <td>0</td>\n",
       "      <td>0</td>\n",
       "      <td>0</td>\n",
       "    </tr>\n",
       "    <tr>\n",
       "      <th>4</th>\n",
       "      <td>5</td>\n",
       "      <td>Alabama</td>\n",
       "      <td>G0100090</td>\n",
       "      <td>41.0</td>\n",
       "      <td>1</td>\n",
       "      <td>90</td>\n",
       "      <td>Blount</td>\n",
       "      <td>1</td>\n",
       "      <td>1</td>\n",
       "      <td>1</td>\n",
       "      <td>1</td>\n",
       "      <td>0</td>\n",
       "      <td>0</td>\n",
       "      <td>0</td>\n",
       "      <td>0</td>\n",
       "      <td>0</td>\n",
       "    </tr>\n",
       "  </tbody>\n",
       "</table>\n",
       "</div>"
      ],
      "text/plain": [
       "   Unnamed: 0    STATE   GISJOIN  STATEICP  STATEFIPS  COUNTYFIPS ALLCOUNTIES  \\\n",
       "0           1  Alabama  G0100010      41.0          1          10     Autauga   \n",
       "1           2  Alabama  G0100030      41.0          1          30     Baldwin   \n",
       "2           3  Alabama  G0100050      41.0          1          50     Barbour   \n",
       "3           4  Alabama  G0100070      41.0          1          70        Bibb   \n",
       "4           5  Alabama  G0100090      41.0          1          90      Blount   \n",
       "\n",
       "   GR.SV2  GR.LRA2  GR.LRA3  MM.LRA1  EP.SV1  EP.LRA1  EP.SV2  EP.LRA2  EP.SV3  \n",
       "0       1        1        1        1       0        0       0        0       1  \n",
       "1       1        1        1        1       0        0       0        1       0  \n",
       "2       1        1        1        1       0        0       0        0       0  \n",
       "3       1        1        1        1       0        0       0        0       0  \n",
       "4       1        1        1        1       0        0       0        0       0  "
      ]
     },
     "execution_count": 9,
     "metadata": {},
     "output_type": "execute_result"
    }
   ],
   "source": [
    "var_data.head(5)\n"
   ]
  },
  {
   "cell_type": "code",
   "execution_count": 10,
   "id": "47685074",
   "metadata": {},
   "outputs": [
    {
     "data": {
      "text/plain": [
       "Unnamed: 0      0\n",
       "STATE           0\n",
       "GISJOIN         0\n",
       "STATEICP       92\n",
       "STATEFIPS       0\n",
       "COUNTYFIPS      0\n",
       "ALLCOUNTIES     0\n",
       "GR.SV2          0\n",
       "GR.LRA2         0\n",
       "GR.LRA3         0\n",
       "MM.LRA1         0\n",
       "EP.SV1          0\n",
       "EP.LRA1         0\n",
       "EP.SV2          0\n",
       "EP.LRA2         0\n",
       "EP.SV3          0\n",
       "dtype: int64"
      ]
     },
     "execution_count": 10,
     "metadata": {},
     "output_type": "execute_result"
    }
   ],
   "source": [
    "var_data.isna().sum()"
   ]
  },
  {
   "cell_type": "code",
   "execution_count": 11,
   "id": "63ed7995",
   "metadata": {},
   "outputs": [],
   "source": [
    "missing_data = census_data.loc[census_data['STATE'] == 'Alaska','cty_percentage'].isna()\n",
    "row_ind = missing_data.loc[missing_data == True].index\n",
    "for i in row_ind:\n",
    "    print(census_data.iloc[i,])\n",
    "#census_data[row_ind,]"
   ]
  },
  {
   "cell_type": "code",
   "execution_count": 12,
   "id": "548cd6d4",
   "metadata": {},
   "outputs": [
    {
     "data": {
      "text/plain": [
       "Unnamed: 0             0\n",
       "STATE                  0\n",
       "GISJOIN                0\n",
       "STATEICP              76\n",
       "STATEFIPS              0\n",
       "COUNTYFIPS             0\n",
       "ALLCOUNTIES            0\n",
       "GR.SV2                 0\n",
       "GR.LRA2                0\n",
       "GR.LRA3                0\n",
       "MM.LRA1                0\n",
       "EP.SV1                 0\n",
       "EP.LRA1                0\n",
       "EP.SV2                 0\n",
       "EP.LRA2                0\n",
       "EP.SV3                 0\n",
       "VARIABLE NAME       3242\n",
       "black_population     192\n",
       "total_population     192\n",
       "cty_percentage         0\n",
       "dtype: int64"
      ]
     },
     "execution_count": 12,
     "metadata": {},
     "output_type": "execute_result"
    }
   ],
   "source": [
    "data = var_data.merge(census_data)\n",
    "data.isna().sum()"
   ]
  },
  {
   "cell_type": "code",
   "execution_count": 13,
   "id": "f0b3c3e3",
   "metadata": {},
   "outputs": [
    {
     "data": {
      "text/plain": [
       "STATE             0\n",
       "GISJOIN           0\n",
       "STATEFIPS         0\n",
       "COUNTYFIPS        0\n",
       "ALLCOUNTIES       0\n",
       "GR.SV2            0\n",
       "GR.LRA2           0\n",
       "GR.LRA3           0\n",
       "MM.LRA1           0\n",
       "EP.SV1            0\n",
       "EP.LRA1           0\n",
       "EP.SV2            0\n",
       "EP.LRA2           0\n",
       "EP.SV3            0\n",
       "cty_percentage    0\n",
       "dtype: int64"
      ]
     },
     "execution_count": 13,
     "metadata": {},
     "output_type": "execute_result"
    }
   ],
   "source": [
    "data = data.drop(columns = [\"STATEICP\", \"VARIABLE NAME\", \"black_population\", \"total_population\", \"Unnamed: 0\"])\n",
    "data.isna().sum()"
   ]
  },
  {
   "cell_type": "code",
   "execution_count": 14,
   "id": "098ef48c",
   "metadata": {},
   "outputs": [],
   "source": [
    "data.to_csv(\"full_data_final.csv\")"
   ]
  }
 ],
 "metadata": {
  "kernelspec": {
   "display_name": "Python 3 (ipykernel)",
   "language": "python",
   "name": "python3"
  },
  "language_info": {
   "codemirror_mode": {
    "name": "ipython",
    "version": 3
   },
   "file_extension": ".py",
   "mimetype": "text/x-python",
   "name": "python",
   "nbconvert_exporter": "python",
   "pygments_lexer": "ipython3",
   "version": "3.9.12"
  }
 },
 "nbformat": 4,
 "nbformat_minor": 5
}
